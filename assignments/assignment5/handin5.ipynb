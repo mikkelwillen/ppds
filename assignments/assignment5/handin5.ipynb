{
 "cells": [
  {
   "attachments": {},
   "cell_type": "markdown",
   "metadata": {},
   "source": [
    "## Load the British-English dictionary"
   ]
  },
  {
   "cell_type": "code",
   "execution_count": 86,
   "metadata": {},
   "outputs": [
    {
     "data": {
      "text/html": [
       "<div>\n",
       "<style scoped>\n",
       "    .dataframe tbody tr th:only-of-type {\n",
       "        vertical-align: middle;\n",
       "    }\n",
       "\n",
       "    .dataframe tbody tr th {\n",
       "        vertical-align: top;\n",
       "    }\n",
       "\n",
       "    .dataframe thead th {\n",
       "        text-align: right;\n",
       "    }\n",
       "</style>\n",
       "<table border=\"1\" class=\"dataframe\">\n",
       "  <thead>\n",
       "    <tr style=\"text-align: right;\">\n",
       "      <th></th>\n",
       "      <th>words</th>\n",
       "    </tr>\n",
       "  </thead>\n",
       "  <tbody>\n",
       "    <tr>\n",
       "      <th>0</th>\n",
       "      <td>escutcheons</td>\n",
       "    </tr>\n",
       "    <tr>\n",
       "      <th>1</th>\n",
       "      <td>detail's</td>\n",
       "    </tr>\n",
       "    <tr>\n",
       "      <th>2</th>\n",
       "      <td>calculi</td>\n",
       "    </tr>\n",
       "    <tr>\n",
       "      <th>3</th>\n",
       "      <td>eaves</td>\n",
       "    </tr>\n",
       "    <tr>\n",
       "      <th>4</th>\n",
       "      <td>exultantly</td>\n",
       "    </tr>\n",
       "    <tr>\n",
       "      <th>5</th>\n",
       "      <td>clothing's</td>\n",
       "    </tr>\n",
       "    <tr>\n",
       "      <th>6</th>\n",
       "      <td>Eddington</td>\n",
       "    </tr>\n",
       "    <tr>\n",
       "      <th>7</th>\n",
       "      <td>Ashley</td>\n",
       "    </tr>\n",
       "    <tr>\n",
       "      <th>8</th>\n",
       "      <td>breakfast</td>\n",
       "    </tr>\n",
       "    <tr>\n",
       "      <th>9</th>\n",
       "      <td>Brooklyn</td>\n",
       "    </tr>\n",
       "    <tr>\n",
       "      <th>10</th>\n",
       "      <td>bandit</td>\n",
       "    </tr>\n",
       "    <tr>\n",
       "      <th>11</th>\n",
       "      <td>Burnett's</td>\n",
       "    </tr>\n",
       "    <tr>\n",
       "      <th>12</th>\n",
       "      <td>calipers</td>\n",
       "    </tr>\n",
       "    <tr>\n",
       "      <th>13</th>\n",
       "      <td>chairmen</td>\n",
       "    </tr>\n",
       "    <tr>\n",
       "      <th>14</th>\n",
       "      <td>barbeque's</td>\n",
       "    </tr>\n",
       "  </tbody>\n",
       "</table>\n",
       "</div>"
      ],
      "text/plain": [
       "          words\n",
       "0   escutcheons\n",
       "1      detail's\n",
       "2       calculi\n",
       "3         eaves\n",
       "4    exultantly\n",
       "5    clothing's\n",
       "6     Eddington\n",
       "7        Ashley\n",
       "8     breakfast\n",
       "9      Brooklyn\n",
       "10       bandit\n",
       "11    Burnett's\n",
       "12     calipers\n",
       "13     chairmen\n",
       "14   barbeque's"
      ]
     },
     "execution_count": 86,
     "metadata": {},
     "output_type": "execute_result"
    }
   ],
   "source": [
    "import pandas as pd\n",
    "\n",
    "f = open(\"british-english_a-e\", \"r\")\n",
    "list_of_lines = f.readlines()\n",
    "\n",
    "noNewline = [line.strip() for line in list_of_lines]\n",
    "\n",
    "df_british = pd.DataFrame(noNewline, columns=[\"words\"])\n",
    "df_british.head(15)"
   ]
  },
  {
   "attachments": {},
   "cell_type": "markdown",
   "metadata": {},
   "source": [
    "## Create the function for palindrome detection"
   ]
  },
  {
   "cell_type": "code",
   "execution_count": 87,
   "metadata": {},
   "outputs": [],
   "source": [
    "def find_palindromes(word_dataframe : pd.DataFrame(columns=[\"words\"]), minimum_length : int = 4):\n",
    "    word_dataframe = word_dataframe.drop(word_dataframe[word_dataframe.words.str.len() < minimum_length].index)\n",
    "    word_dataframe = word_dataframe.drop(word_dataframe[word_dataframe.words.str.contains(\"'\")].index)\n",
    "\n",
    "    # palindrome_list = [word for word in word_dataframe[\"words\"] if (word == word[::-1])]\n",
    "    palindrome_list = list(filter(lambda x: (x.lower() == \"\".join(reversed(x.lower()))), word_dataframe[\"words\"]))\n",
    "    word_dataframe = word_dataframe.drop(word_dataframe[~word_dataframe[\"words\"].isin(palindrome_list)].index)\n",
    "\n",
    "    return word_dataframe"
   ]
  },
  {
   "attachments": {},
   "cell_type": "markdown",
   "metadata": {},
   "source": [
    "__Test the palindrome detection funtion__"
   ]
  },
  {
   "cell_type": "code",
   "execution_count": 88,
   "metadata": {},
   "outputs": [],
   "source": [
    "palindromes = find_palindromes(df_british, 5)"
   ]
  },
  {
   "attachments": {},
   "cell_type": "markdown",
   "metadata": {},
   "source": [
    "## Create the function for searching words by prefix"
   ]
  },
  {
   "cell_type": "code",
   "execution_count": 89,
   "metadata": {},
   "outputs": [],
   "source": [
    "def find_words_starting_with(word_dataframe : pd.DataFrame(columns=[\"words\"]), prefix):\n",
    "    word_dataframe = word_dataframe.drop(word_dataframe[word_dataframe.words.str.contains(\"'\")].index)\n",
    "    word_dataframe = word_dataframe.drop(word_dataframe[~word_dataframe[\"words\"].str.lower().startswith(prefix)].index)\n",
    "\n",
    "    returnDict = {}\n",
    "    for word in word_dataframe[\"words\"]:\n",
    "        returnDict[word.str.len()].append(word.str)\n",
    "    \n",
    "    return returnDict"
   ]
  },
  {
   "attachments": {},
   "cell_type": "markdown",
   "metadata": {},
   "source": [
    "__Test the function for searching for words by prefix__"
   ]
  },
  {
   "cell_type": "code",
   "execution_count": 90,
   "metadata": {},
   "outputs": [
    {
     "ename": "AttributeError",
     "evalue": "'Series' object has no attribute 'startswith'",
     "output_type": "error",
     "traceback": [
      "\u001b[0;31m---------------------------------------------------------------------------\u001b[0m",
      "\u001b[0;31mAttributeError\u001b[0m                            Traceback (most recent call last)",
      "Cell \u001b[0;32mIn[90], line 1\u001b[0m\n\u001b[0;32m----> 1\u001b[0m matching_words \u001b[39m=\u001b[39m find_words_starting_with(df_british, \u001b[39m\"\u001b[39;49m\u001b[39mcongra\u001b[39;49m\u001b[39m\"\u001b[39;49m)\n",
      "Cell \u001b[0;32mIn[89], line 3\u001b[0m, in \u001b[0;36mfind_words_starting_with\u001b[0;34m(word_dataframe, prefix)\u001b[0m\n\u001b[1;32m      1\u001b[0m \u001b[39mdef\u001b[39;00m \u001b[39mfind_words_starting_with\u001b[39m(word_dataframe : pd\u001b[39m.\u001b[39mDataFrame(columns\u001b[39m=\u001b[39m[\u001b[39m\"\u001b[39m\u001b[39mwords\u001b[39m\u001b[39m\"\u001b[39m]), prefix):\n\u001b[1;32m      2\u001b[0m     word_dataframe \u001b[39m=\u001b[39m word_dataframe\u001b[39m.\u001b[39mdrop(word_dataframe[word_dataframe\u001b[39m.\u001b[39mwords\u001b[39m.\u001b[39mstr\u001b[39m.\u001b[39mcontains(\u001b[39m\"\u001b[39m\u001b[39m'\u001b[39m\u001b[39m\"\u001b[39m)]\u001b[39m.\u001b[39mindex)\n\u001b[0;32m----> 3\u001b[0m     word_dataframe \u001b[39m=\u001b[39m word_dataframe\u001b[39m.\u001b[39mdrop(word_dataframe[\u001b[39m~\u001b[39mword_dataframe[\u001b[39m\"\u001b[39;49m\u001b[39mwords\u001b[39;49m\u001b[39m\"\u001b[39;49m]\u001b[39m.\u001b[39;49mstr\u001b[39m.\u001b[39;49mlower()\u001b[39m.\u001b[39;49mstartswith(prefix)]\u001b[39m.\u001b[39mindex)\n\u001b[1;32m      5\u001b[0m     returnDict \u001b[39m=\u001b[39m {}\n\u001b[1;32m      6\u001b[0m     \u001b[39mfor\u001b[39;00m word \u001b[39min\u001b[39;00m word_dataframe[\u001b[39m\"\u001b[39m\u001b[39mwords\u001b[39m\u001b[39m\"\u001b[39m]:\n",
      "File \u001b[0;32m~/.local/lib/python3.10/site-packages/pandas/core/generic.py:5902\u001b[0m, in \u001b[0;36mNDFrame.__getattr__\u001b[0;34m(self, name)\u001b[0m\n\u001b[1;32m   5895\u001b[0m \u001b[39mif\u001b[39;00m (\n\u001b[1;32m   5896\u001b[0m     name \u001b[39mnot\u001b[39;00m \u001b[39min\u001b[39;00m \u001b[39mself\u001b[39m\u001b[39m.\u001b[39m_internal_names_set\n\u001b[1;32m   5897\u001b[0m     \u001b[39mand\u001b[39;00m name \u001b[39mnot\u001b[39;00m \u001b[39min\u001b[39;00m \u001b[39mself\u001b[39m\u001b[39m.\u001b[39m_metadata\n\u001b[1;32m   5898\u001b[0m     \u001b[39mand\u001b[39;00m name \u001b[39mnot\u001b[39;00m \u001b[39min\u001b[39;00m \u001b[39mself\u001b[39m\u001b[39m.\u001b[39m_accessors\n\u001b[1;32m   5899\u001b[0m     \u001b[39mand\u001b[39;00m \u001b[39mself\u001b[39m\u001b[39m.\u001b[39m_info_axis\u001b[39m.\u001b[39m_can_hold_identifiers_and_holds_name(name)\n\u001b[1;32m   5900\u001b[0m ):\n\u001b[1;32m   5901\u001b[0m     \u001b[39mreturn\u001b[39;00m \u001b[39mself\u001b[39m[name]\n\u001b[0;32m-> 5902\u001b[0m \u001b[39mreturn\u001b[39;00m \u001b[39mobject\u001b[39;49m\u001b[39m.\u001b[39;49m\u001b[39m__getattribute__\u001b[39;49m(\u001b[39mself\u001b[39;49m, name)\n",
      "\u001b[0;31mAttributeError\u001b[0m: 'Series' object has no attribute 'startswith'"
     ]
    }
   ],
   "source": [
    "matching_words = find_words_starting_with(df_british, \"congra\")"
   ]
  },
  {
   "cell_type": "code",
   "execution_count": null,
   "metadata": {},
   "outputs": [],
   "source": []
  }
 ],
 "metadata": {
  "kernelspec": {
   "display_name": "Python 3",
   "language": "python",
   "name": "python3"
  },
  "language_info": {
   "codemirror_mode": {
    "name": "ipython",
    "version": 3
   },
   "file_extension": ".py",
   "mimetype": "text/x-python",
   "name": "python",
   "nbconvert_exporter": "python",
   "pygments_lexer": "ipython3",
   "version": "3.10.6"
  },
  "orig_nbformat": 4,
  "vscode": {
   "interpreter": {
    "hash": "916dbcbb3f70747c44a77c7bcd40155683ae19c65e1c03b4aa3499c5328201f1"
   }
  }
 },
 "nbformat": 4,
 "nbformat_minor": 2
}
